{
 "cells": [
  {
   "cell_type": "code",
   "execution_count": 3,
   "id": "d78eaae4-2825-48d3-b399-f3f2e15915f0",
   "metadata": {},
   "outputs": [],
   "source": [
    "import pandas as pd \n",
    "import seaborn as sns\n",
    "import numpy as np \n",
    "import matplotlib.pyplot as plt "
   ]
  },
  {
   "cell_type": "code",
   "execution_count": 5,
   "id": "00dfa659-5dcd-4cd3-a075-300aab5c6f57",
   "metadata": {},
   "outputs": [],
   "source": [
    "df = pd.read_csv(r\"C:\\Users\\LENOVO\\Desktop\\SQL datasets\\retail_sales_dataset.csv\")"
   ]
  },
  {
   "cell_type": "code",
   "execution_count": 7,
   "id": "26d637ad-a5a8-40a3-a755-2466aa9b7ea4",
   "metadata": {},
   "outputs": [
    {
     "data": {
      "text/html": [
       "<div>\n",
       "<style scoped>\n",
       "    .dataframe tbody tr th:only-of-type {\n",
       "        vertical-align: middle;\n",
       "    }\n",
       "\n",
       "    .dataframe tbody tr th {\n",
       "        vertical-align: top;\n",
       "    }\n",
       "\n",
       "    .dataframe thead th {\n",
       "        text-align: right;\n",
       "    }\n",
       "</style>\n",
       "<table border=\"1\" class=\"dataframe\">\n",
       "  <thead>\n",
       "    <tr style=\"text-align: right;\">\n",
       "      <th></th>\n",
       "      <th>Transaction ID</th>\n",
       "      <th>Date</th>\n",
       "      <th>Customer ID</th>\n",
       "      <th>Gender</th>\n",
       "      <th>Age</th>\n",
       "      <th>Product Category</th>\n",
       "      <th>Quantity</th>\n",
       "      <th>Price per Unit</th>\n",
       "      <th>Total Amount</th>\n",
       "    </tr>\n",
       "  </thead>\n",
       "  <tbody>\n",
       "    <tr>\n",
       "      <th>0</th>\n",
       "      <td>1</td>\n",
       "      <td>2023-11-24</td>\n",
       "      <td>CUST001</td>\n",
       "      <td>Male</td>\n",
       "      <td>34</td>\n",
       "      <td>Beauty</td>\n",
       "      <td>3</td>\n",
       "      <td>50</td>\n",
       "      <td>150</td>\n",
       "    </tr>\n",
       "    <tr>\n",
       "      <th>1</th>\n",
       "      <td>2</td>\n",
       "      <td>2023-02-27</td>\n",
       "      <td>CUST002</td>\n",
       "      <td>Female</td>\n",
       "      <td>26</td>\n",
       "      <td>Clothing</td>\n",
       "      <td>2</td>\n",
       "      <td>500</td>\n",
       "      <td>1000</td>\n",
       "    </tr>\n",
       "    <tr>\n",
       "      <th>2</th>\n",
       "      <td>3</td>\n",
       "      <td>2023-01-13</td>\n",
       "      <td>CUST003</td>\n",
       "      <td>Male</td>\n",
       "      <td>50</td>\n",
       "      <td>Electronics</td>\n",
       "      <td>1</td>\n",
       "      <td>30</td>\n",
       "      <td>30</td>\n",
       "    </tr>\n",
       "    <tr>\n",
       "      <th>3</th>\n",
       "      <td>4</td>\n",
       "      <td>2023-05-21</td>\n",
       "      <td>CUST004</td>\n",
       "      <td>Male</td>\n",
       "      <td>37</td>\n",
       "      <td>Clothing</td>\n",
       "      <td>1</td>\n",
       "      <td>500</td>\n",
       "      <td>500</td>\n",
       "    </tr>\n",
       "    <tr>\n",
       "      <th>4</th>\n",
       "      <td>5</td>\n",
       "      <td>2023-05-06</td>\n",
       "      <td>CUST005</td>\n",
       "      <td>Male</td>\n",
       "      <td>30</td>\n",
       "      <td>Beauty</td>\n",
       "      <td>2</td>\n",
       "      <td>50</td>\n",
       "      <td>100</td>\n",
       "    </tr>\n",
       "  </tbody>\n",
       "</table>\n",
       "</div>"
      ],
      "text/plain": [
       "   Transaction ID        Date Customer ID  Gender  Age Product Category  \\\n",
       "0               1  2023-11-24     CUST001    Male   34           Beauty   \n",
       "1               2  2023-02-27     CUST002  Female   26         Clothing   \n",
       "2               3  2023-01-13     CUST003    Male   50      Electronics   \n",
       "3               4  2023-05-21     CUST004    Male   37         Clothing   \n",
       "4               5  2023-05-06     CUST005    Male   30           Beauty   \n",
       "\n",
       "   Quantity  Price per Unit  Total Amount  \n",
       "0         3              50           150  \n",
       "1         2             500          1000  \n",
       "2         1              30            30  \n",
       "3         1             500           500  \n",
       "4         2              50           100  "
      ]
     },
     "execution_count": 7,
     "metadata": {},
     "output_type": "execute_result"
    }
   ],
   "source": [
    "df.head()"
   ]
  },
  {
   "cell_type": "code",
   "execution_count": 9,
   "id": "28d54116-6dfa-4316-8816-dd6c1940d4e0",
   "metadata": {},
   "outputs": [
    {
     "data": {
      "text/html": [
       "<div>\n",
       "<style scoped>\n",
       "    .dataframe tbody tr th:only-of-type {\n",
       "        vertical-align: middle;\n",
       "    }\n",
       "\n",
       "    .dataframe tbody tr th {\n",
       "        vertical-align: top;\n",
       "    }\n",
       "\n",
       "    .dataframe thead th {\n",
       "        text-align: right;\n",
       "    }\n",
       "</style>\n",
       "<table border=\"1\" class=\"dataframe\">\n",
       "  <thead>\n",
       "    <tr style=\"text-align: right;\">\n",
       "      <th></th>\n",
       "      <th>Transaction ID</th>\n",
       "      <th>Age</th>\n",
       "      <th>Quantity</th>\n",
       "      <th>Price per Unit</th>\n",
       "      <th>Total Amount</th>\n",
       "    </tr>\n",
       "  </thead>\n",
       "  <tbody>\n",
       "    <tr>\n",
       "      <th>count</th>\n",
       "      <td>1000.000000</td>\n",
       "      <td>1000.00000</td>\n",
       "      <td>1000.000000</td>\n",
       "      <td>1000.000000</td>\n",
       "      <td>1000.000000</td>\n",
       "    </tr>\n",
       "    <tr>\n",
       "      <th>mean</th>\n",
       "      <td>500.500000</td>\n",
       "      <td>41.39200</td>\n",
       "      <td>2.514000</td>\n",
       "      <td>179.890000</td>\n",
       "      <td>456.000000</td>\n",
       "    </tr>\n",
       "    <tr>\n",
       "      <th>std</th>\n",
       "      <td>288.819436</td>\n",
       "      <td>13.68143</td>\n",
       "      <td>1.132734</td>\n",
       "      <td>189.681356</td>\n",
       "      <td>559.997632</td>\n",
       "    </tr>\n",
       "    <tr>\n",
       "      <th>min</th>\n",
       "      <td>1.000000</td>\n",
       "      <td>18.00000</td>\n",
       "      <td>1.000000</td>\n",
       "      <td>25.000000</td>\n",
       "      <td>25.000000</td>\n",
       "    </tr>\n",
       "    <tr>\n",
       "      <th>25%</th>\n",
       "      <td>250.750000</td>\n",
       "      <td>29.00000</td>\n",
       "      <td>1.000000</td>\n",
       "      <td>30.000000</td>\n",
       "      <td>60.000000</td>\n",
       "    </tr>\n",
       "    <tr>\n",
       "      <th>50%</th>\n",
       "      <td>500.500000</td>\n",
       "      <td>42.00000</td>\n",
       "      <td>3.000000</td>\n",
       "      <td>50.000000</td>\n",
       "      <td>135.000000</td>\n",
       "    </tr>\n",
       "    <tr>\n",
       "      <th>75%</th>\n",
       "      <td>750.250000</td>\n",
       "      <td>53.00000</td>\n",
       "      <td>4.000000</td>\n",
       "      <td>300.000000</td>\n",
       "      <td>900.000000</td>\n",
       "    </tr>\n",
       "    <tr>\n",
       "      <th>max</th>\n",
       "      <td>1000.000000</td>\n",
       "      <td>64.00000</td>\n",
       "      <td>4.000000</td>\n",
       "      <td>500.000000</td>\n",
       "      <td>2000.000000</td>\n",
       "    </tr>\n",
       "  </tbody>\n",
       "</table>\n",
       "</div>"
      ],
      "text/plain": [
       "       Transaction ID         Age     Quantity  Price per Unit  Total Amount\n",
       "count     1000.000000  1000.00000  1000.000000     1000.000000   1000.000000\n",
       "mean       500.500000    41.39200     2.514000      179.890000    456.000000\n",
       "std        288.819436    13.68143     1.132734      189.681356    559.997632\n",
       "min          1.000000    18.00000     1.000000       25.000000     25.000000\n",
       "25%        250.750000    29.00000     1.000000       30.000000     60.000000\n",
       "50%        500.500000    42.00000     3.000000       50.000000    135.000000\n",
       "75%        750.250000    53.00000     4.000000      300.000000    900.000000\n",
       "max       1000.000000    64.00000     4.000000      500.000000   2000.000000"
      ]
     },
     "execution_count": 9,
     "metadata": {},
     "output_type": "execute_result"
    }
   ],
   "source": [
    "df.describe()"
   ]
  },
  {
   "cell_type": "code",
   "execution_count": 13,
   "id": "a6a9d86c-6c7b-4f03-b861-e10c3ddaf537",
   "metadata": {},
   "outputs": [
    {
     "data": {
      "text/plain": [
       "Transaction ID      0\n",
       "Date                0\n",
       "Customer ID         0\n",
       "Gender              0\n",
       "Age                 0\n",
       "Product Category    0\n",
       "Quantity            0\n",
       "Price per Unit      0\n",
       "Total Amount        0\n",
       "dtype: int64"
      ]
     },
     "execution_count": 13,
     "metadata": {},
     "output_type": "execute_result"
    }
   ],
   "source": [
    "df.isnull().sum()\n",
    "#No null Values "
   ]
  },
  {
   "cell_type": "markdown",
   "id": "51a61a6d-f6d8-411e-a4b6-cadccd8fdf7b",
   "metadata": {},
   "source": [
    "**How does customer age and gender influence their purchasing behavior?**"
   ]
  },
  {
   "cell_type": "code",
   "execution_count": 17,
   "id": "8b67dac3-b988-4fde-b957-7a5397e9909e",
   "metadata": {},
   "outputs": [
    {
     "data": {
      "text/html": [
       "<div>\n",
       "<style scoped>\n",
       "    .dataframe tbody tr th:only-of-type {\n",
       "        vertical-align: middle;\n",
       "    }\n",
       "\n",
       "    .dataframe tbody tr th {\n",
       "        vertical-align: top;\n",
       "    }\n",
       "\n",
       "    .dataframe thead th {\n",
       "        text-align: right;\n",
       "    }\n",
       "</style>\n",
       "<table border=\"1\" class=\"dataframe\">\n",
       "  <thead>\n",
       "    <tr style=\"text-align: right;\">\n",
       "      <th></th>\n",
       "      <th>Transaction ID</th>\n",
       "      <th>Date</th>\n",
       "      <th>Customer ID</th>\n",
       "      <th>Gender</th>\n",
       "      <th>Age</th>\n",
       "      <th>Product Category</th>\n",
       "      <th>Quantity</th>\n",
       "      <th>Price per Unit</th>\n",
       "      <th>Total Amount</th>\n",
       "    </tr>\n",
       "  </thead>\n",
       "  <tbody>\n",
       "    <tr>\n",
       "      <th>0</th>\n",
       "      <td>1</td>\n",
       "      <td>2023-11-24</td>\n",
       "      <td>CUST001</td>\n",
       "      <td>Male</td>\n",
       "      <td>34</td>\n",
       "      <td>Beauty</td>\n",
       "      <td>3</td>\n",
       "      <td>50</td>\n",
       "      <td>150</td>\n",
       "    </tr>\n",
       "    <tr>\n",
       "      <th>1</th>\n",
       "      <td>2</td>\n",
       "      <td>2023-02-27</td>\n",
       "      <td>CUST002</td>\n",
       "      <td>Female</td>\n",
       "      <td>26</td>\n",
       "      <td>Clothing</td>\n",
       "      <td>2</td>\n",
       "      <td>500</td>\n",
       "      <td>1000</td>\n",
       "    </tr>\n",
       "    <tr>\n",
       "      <th>2</th>\n",
       "      <td>3</td>\n",
       "      <td>2023-01-13</td>\n",
       "      <td>CUST003</td>\n",
       "      <td>Male</td>\n",
       "      <td>50</td>\n",
       "      <td>Electronics</td>\n",
       "      <td>1</td>\n",
       "      <td>30</td>\n",
       "      <td>30</td>\n",
       "    </tr>\n",
       "    <tr>\n",
       "      <th>3</th>\n",
       "      <td>4</td>\n",
       "      <td>2023-05-21</td>\n",
       "      <td>CUST004</td>\n",
       "      <td>Male</td>\n",
       "      <td>37</td>\n",
       "      <td>Clothing</td>\n",
       "      <td>1</td>\n",
       "      <td>500</td>\n",
       "      <td>500</td>\n",
       "    </tr>\n",
       "    <tr>\n",
       "      <th>4</th>\n",
       "      <td>5</td>\n",
       "      <td>2023-05-06</td>\n",
       "      <td>CUST005</td>\n",
       "      <td>Male</td>\n",
       "      <td>30</td>\n",
       "      <td>Beauty</td>\n",
       "      <td>2</td>\n",
       "      <td>50</td>\n",
       "      <td>100</td>\n",
       "    </tr>\n",
       "  </tbody>\n",
       "</table>\n",
       "</div>"
      ],
      "text/plain": [
       "   Transaction ID        Date Customer ID  Gender  Age Product Category  \\\n",
       "0               1  2023-11-24     CUST001    Male   34           Beauty   \n",
       "1               2  2023-02-27     CUST002  Female   26         Clothing   \n",
       "2               3  2023-01-13     CUST003    Male   50      Electronics   \n",
       "3               4  2023-05-21     CUST004    Male   37         Clothing   \n",
       "4               5  2023-05-06     CUST005    Male   30           Beauty   \n",
       "\n",
       "   Quantity  Price per Unit  Total Amount  \n",
       "0         3              50           150  \n",
       "1         2             500          1000  \n",
       "2         1              30            30  \n",
       "3         1             500           500  \n",
       "4         2              50           100  "
      ]
     },
     "execution_count": 17,
     "metadata": {},
     "output_type": "execute_result"
    }
   ],
   "source": [
    "df.head()"
   ]
  },
  {
   "cell_type": "code",
   "execution_count": 21,
   "id": "aaee9ca1-8212-45aa-8d15-6549b77b7255",
   "metadata": {},
   "outputs": [
    {
     "data": {
      "text/html": [
       "<div>\n",
       "<style scoped>\n",
       "    .dataframe tbody tr th:only-of-type {\n",
       "        vertical-align: middle;\n",
       "    }\n",
       "\n",
       "    .dataframe tbody tr th {\n",
       "        vertical-align: top;\n",
       "    }\n",
       "\n",
       "    .dataframe thead th {\n",
       "        text-align: right;\n",
       "    }\n",
       "</style>\n",
       "<table border=\"1\" class=\"dataframe\">\n",
       "  <thead>\n",
       "    <tr style=\"text-align: right;\">\n",
       "      <th></th>\n",
       "      <th>Gender</th>\n",
       "      <th>Total Amount</th>\n",
       "    </tr>\n",
       "  </thead>\n",
       "  <tbody>\n",
       "    <tr>\n",
       "      <th>0</th>\n",
       "      <td>Female</td>\n",
       "      <td>456.549020</td>\n",
       "    </tr>\n",
       "    <tr>\n",
       "      <th>1</th>\n",
       "      <td>Male</td>\n",
       "      <td>455.428571</td>\n",
       "    </tr>\n",
       "  </tbody>\n",
       "</table>\n",
       "</div>"
      ],
      "text/plain": [
       "   Gender  Total Amount\n",
       "0  Female    456.549020\n",
       "1    Male    455.428571"
      ]
     },
     "execution_count": 21,
     "metadata": {},
     "output_type": "execute_result"
    }
   ],
   "source": [
    "gender_expenditure = df.groupby('Gender')['Total Amount'].mean().reset_index()\n",
    "gender_expenditure"
   ]
  },
  {
   "cell_type": "code",
   "execution_count": 41,
   "id": "4adcb846-1b03-4003-b011-babc87908034",
   "metadata": {},
   "outputs": [],
   "source": [
    "bins = [15,25,35,45,55,65]\n",
    "labels = ['15-24','25-34','35-44','45-54','55-65']"
   ]
  },
  {
   "cell_type": "code",
   "execution_count": 43,
   "id": "2b98ec23-d3b8-4df0-ba0d-2bdd9f3d4be0",
   "metadata": {},
   "outputs": [],
   "source": [
    "df['Age group'] = pd.cut(df['Age'], bins = bins, labels = labels)"
   ]
  },
  {
   "cell_type": "code",
   "execution_count": 45,
   "id": "6894781c-c1df-485f-8ca2-f7b4c9b0e80e",
   "metadata": {},
   "outputs": [
    {
     "data": {
      "text/html": [
       "<div>\n",
       "<style scoped>\n",
       "    .dataframe tbody tr th:only-of-type {\n",
       "        vertical-align: middle;\n",
       "    }\n",
       "\n",
       "    .dataframe tbody tr th {\n",
       "        vertical-align: top;\n",
       "    }\n",
       "\n",
       "    .dataframe thead th {\n",
       "        text-align: right;\n",
       "    }\n",
       "</style>\n",
       "<table border=\"1\" class=\"dataframe\">\n",
       "  <thead>\n",
       "    <tr style=\"text-align: right;\">\n",
       "      <th></th>\n",
       "      <th>Transaction ID</th>\n",
       "      <th>Date</th>\n",
       "      <th>Customer ID</th>\n",
       "      <th>Gender</th>\n",
       "      <th>Age</th>\n",
       "      <th>Product Category</th>\n",
       "      <th>Quantity</th>\n",
       "      <th>Price per Unit</th>\n",
       "      <th>Total Amount</th>\n",
       "      <th>Age group</th>\n",
       "    </tr>\n",
       "  </thead>\n",
       "  <tbody>\n",
       "    <tr>\n",
       "      <th>0</th>\n",
       "      <td>1</td>\n",
       "      <td>2023-11-24</td>\n",
       "      <td>CUST001</td>\n",
       "      <td>Male</td>\n",
       "      <td>34</td>\n",
       "      <td>Beauty</td>\n",
       "      <td>3</td>\n",
       "      <td>50</td>\n",
       "      <td>150</td>\n",
       "      <td>25-34</td>\n",
       "    </tr>\n",
       "    <tr>\n",
       "      <th>1</th>\n",
       "      <td>2</td>\n",
       "      <td>2023-02-27</td>\n",
       "      <td>CUST002</td>\n",
       "      <td>Female</td>\n",
       "      <td>26</td>\n",
       "      <td>Clothing</td>\n",
       "      <td>2</td>\n",
       "      <td>500</td>\n",
       "      <td>1000</td>\n",
       "      <td>25-34</td>\n",
       "    </tr>\n",
       "    <tr>\n",
       "      <th>2</th>\n",
       "      <td>3</td>\n",
       "      <td>2023-01-13</td>\n",
       "      <td>CUST003</td>\n",
       "      <td>Male</td>\n",
       "      <td>50</td>\n",
       "      <td>Electronics</td>\n",
       "      <td>1</td>\n",
       "      <td>30</td>\n",
       "      <td>30</td>\n",
       "      <td>45-54</td>\n",
       "    </tr>\n",
       "    <tr>\n",
       "      <th>3</th>\n",
       "      <td>4</td>\n",
       "      <td>2023-05-21</td>\n",
       "      <td>CUST004</td>\n",
       "      <td>Male</td>\n",
       "      <td>37</td>\n",
       "      <td>Clothing</td>\n",
       "      <td>1</td>\n",
       "      <td>500</td>\n",
       "      <td>500</td>\n",
       "      <td>35-44</td>\n",
       "    </tr>\n",
       "    <tr>\n",
       "      <th>4</th>\n",
       "      <td>5</td>\n",
       "      <td>2023-05-06</td>\n",
       "      <td>CUST005</td>\n",
       "      <td>Male</td>\n",
       "      <td>30</td>\n",
       "      <td>Beauty</td>\n",
       "      <td>2</td>\n",
       "      <td>50</td>\n",
       "      <td>100</td>\n",
       "      <td>25-34</td>\n",
       "    </tr>\n",
       "  </tbody>\n",
       "</table>\n",
       "</div>"
      ],
      "text/plain": [
       "   Transaction ID        Date Customer ID  Gender  Age Product Category  \\\n",
       "0               1  2023-11-24     CUST001    Male   34           Beauty   \n",
       "1               2  2023-02-27     CUST002  Female   26         Clothing   \n",
       "2               3  2023-01-13     CUST003    Male   50      Electronics   \n",
       "3               4  2023-05-21     CUST004    Male   37         Clothing   \n",
       "4               5  2023-05-06     CUST005    Male   30           Beauty   \n",
       "\n",
       "   Quantity  Price per Unit  Total Amount Age group  \n",
       "0         3              50           150     25-34  \n",
       "1         2             500          1000     25-34  \n",
       "2         1              30            30     45-54  \n",
       "3         1             500           500     35-44  \n",
       "4         2              50           100     25-34  "
      ]
     },
     "execution_count": 45,
     "metadata": {},
     "output_type": "execute_result"
    }
   ],
   "source": [
    "df.head()"
   ]
  },
  {
   "cell_type": "code",
   "execution_count": 50,
   "id": "e7503e72-111d-4264-8915-5f1674c53279",
   "metadata": {},
   "outputs": [
    {
     "name": "stderr",
     "output_type": "stream",
     "text": [
      "C:\\Users\\LENOVO\\AppData\\Local\\Temp\\ipykernel_34496\\318091792.py:1: FutureWarning: The default of observed=False is deprecated and will be changed to True in a future version of pandas. Pass observed=False to retain current behavior or observed=True to adopt the future default and silence this warning.\n",
      "  Age_group_expenditure = df.groupby('Age group')['Total Amount'].mean().sort_values(ascending=False).reset_index()\n"
     ]
    },
    {
     "data": {
      "text/html": [
       "<div>\n",
       "<style scoped>\n",
       "    .dataframe tbody tr th:only-of-type {\n",
       "        vertical-align: middle;\n",
       "    }\n",
       "\n",
       "    .dataframe tbody tr th {\n",
       "        vertical-align: top;\n",
       "    }\n",
       "\n",
       "    .dataframe thead th {\n",
       "        text-align: right;\n",
       "    }\n",
       "</style>\n",
       "<table border=\"1\" class=\"dataframe\">\n",
       "  <thead>\n",
       "    <tr style=\"text-align: right;\">\n",
       "      <th></th>\n",
       "      <th>Age group</th>\n",
       "      <th>Total Amount</th>\n",
       "    </tr>\n",
       "  </thead>\n",
       "  <tbody>\n",
       "    <tr>\n",
       "      <th>0</th>\n",
       "      <td>15-24</td>\n",
       "      <td>500.295858</td>\n",
       "    </tr>\n",
       "    <tr>\n",
       "      <th>1</th>\n",
       "      <td>25-34</td>\n",
       "      <td>480.390244</td>\n",
       "    </tr>\n",
       "    <tr>\n",
       "      <th>2</th>\n",
       "      <td>35-44</td>\n",
       "      <td>454.801980</td>\n",
       "    </tr>\n",
       "    <tr>\n",
       "      <th>3</th>\n",
       "      <td>45-54</td>\n",
       "      <td>439.694323</td>\n",
       "    </tr>\n",
       "    <tr>\n",
       "      <th>4</th>\n",
       "      <td>55-65</td>\n",
       "      <td>412.358974</td>\n",
       "    </tr>\n",
       "  </tbody>\n",
       "</table>\n",
       "</div>"
      ],
      "text/plain": [
       "  Age group  Total Amount\n",
       "0     15-24    500.295858\n",
       "1     25-34    480.390244\n",
       "2     35-44    454.801980\n",
       "3     45-54    439.694323\n",
       "4     55-65    412.358974"
      ]
     },
     "execution_count": 50,
     "metadata": {},
     "output_type": "execute_result"
    }
   ],
   "source": [
    "Age_group_expenditure = df.groupby('Age group')['Total Amount'].mean().sort_values(ascending=False).reset_index()\n",
    "Age_group_expenditure"
   ]
  },
  {
   "cell_type": "code",
   "execution_count": 56,
   "id": "39ed73b9-fee5-43d0-a0e3-e8ca61c91b96",
   "metadata": {},
   "outputs": [
    {
     "name": "stderr",
     "output_type": "stream",
     "text": [
      "C:\\Users\\LENOVO\\AppData\\Local\\Temp\\ipykernel_34496\\291191625.py:1: FutureWarning: The default value of observed=False is deprecated and will change to observed=True in a future version of pandas. Specify observed=False to silence this warning and retain the current behavior\n",
      "  pivot = df.pivot_table(values = 'Total Amount', index = 'Age group', columns = 'Gender', aggfunc= 'mean')\n"
     ]
    },
    {
     "data": {
      "text/plain": [
       "<Axes: xlabel='Age group'>"
      ]
     },
     "execution_count": 56,
     "metadata": {},
     "output_type": "execute_result"
    },
    {
     "data": {
      "image/png": "[encoded data removed]",
      "text/plain": [
       "<Figure size 1000x600 with 1 Axes>"
      ]
     },
     "metadata": {},
     "output_type": "display_data"
    }
   ],
   "source": [
    "pivot = df.pivot_table(values = 'Total Amount', index = 'Age group', columns = 'Gender', aggfunc= 'mean')\n",
    "pivot.plot(kind='bar', figsize=(10,6))"
   ]
  },
  {
   "cell_type": "code",
   "execution_count": 66,
   "id": "238acb36-034e-4a8d-a515-e272dfea5270",
   "metadata": {},
   "outputs": [
    {
     "name": "stderr",
     "output_type": "stream",
     "text": [
      "C:\\Users\\LENOVO\\AppData\\Local\\Temp\\ipykernel_34496\\3241275317.py:1: FutureWarning: The default value of observed=False is deprecated and will change to observed=True in a future version of pandas. Specify observed=False to silence this warning and retain the current behavior\n",
      "  pivot = df.pivot_table(values = 'Total Amount', index = 'Age group', columns = 'Product Category', aggfunc = 'sum')\n"
     ]
    },
    {
     "data": {
      "text/html": [
       "<div>\n",
       "<style scoped>\n",
       "    .dataframe tbody tr th:only-of-type {\n",
       "        vertical-align: middle;\n",
       "    }\n",
       "\n",
       "    .dataframe tbody tr th {\n",
       "        vertical-align: top;\n",
       "    }\n",
       "\n",
       "    .dataframe thead th {\n",
       "        text-align: right;\n",
       "    }\n",
       "</style>\n",
       "<table border=\"1\" class=\"dataframe\">\n",
       "  <thead>\n",
       "    <tr style=\"text-align: right;\">\n",
       "      <th>Product Category</th>\n",
       "      <th>Beauty</th>\n",
       "      <th>Clothing</th>\n",
       "      <th>Electronics</th>\n",
       "    </tr>\n",
       "    <tr>\n",
       "      <th>Age group</th>\n",
       "      <th></th>\n",
       "      <th></th>\n",
       "      <th></th>\n",
       "    </tr>\n",
       "  </thead>\n",
       "  <tbody>\n",
       "    <tr>\n",
       "      <th>15-24</th>\n",
       "      <td>31280</td>\n",
       "      <td>26510</td>\n",
       "      <td>26760</td>\n",
       "    </tr>\n",
       "    <tr>\n",
       "      <th>25-34</th>\n",
       "      <td>31240</td>\n",
       "      <td>39975</td>\n",
       "      <td>27265</td>\n",
       "    </tr>\n",
       "    <tr>\n",
       "      <th>35-44</th>\n",
       "      <td>28405</td>\n",
       "      <td>29550</td>\n",
       "      <td>33915</td>\n",
       "    </tr>\n",
       "    <tr>\n",
       "      <th>45-54</th>\n",
       "      <td>34720</td>\n",
       "      <td>30485</td>\n",
       "      <td>35485</td>\n",
       "    </tr>\n",
       "    <tr>\n",
       "      <th>55-65</th>\n",
       "      <td>17870</td>\n",
       "      <td>29060</td>\n",
       "      <td>33480</td>\n",
       "    </tr>\n",
       "  </tbody>\n",
       "</table>\n",
       "</div>"
      ],
      "text/plain": [
       "Product Category  Beauty  Clothing  Electronics\n",
       "Age group                                      \n",
       "15-24              31280     26510        26760\n",
       "25-34              31240     39975        27265\n",
       "35-44              28405     29550        33915\n",
       "45-54              34720     30485        35485\n",
       "55-65              17870     29060        33480"
      ]
     },
     "execution_count": 66,
     "metadata": {},
     "output_type": "execute_result"
    }
   ],
   "source": [
    "pivot = df.pivot_table(values = 'Total Amount', index = 'Age group', columns = 'Product Category', aggfunc = 'sum')\n",
    "pivot"
   ]
  },
  {
   "cell_type": "markdown",
   "id": "1944808e-d93a-48fa-9bd3-600b0be72b13",
   "metadata": {},
   "source": [
    "**Key Findings**\n",
    "Gender Spending Insights\n",
    "\n",
    "- Women spend slightly more overall (456.549020) compared to men (455.428571) on average per transaction.\n",
    "\n",
    "- While the difference is small, it suggests women may contribute marginally more to total revenue.\n",
    "\n",
    "**Age Group Profitability**\n",
    "\n",
    "- The 15–24 age group is the most profitable, with the highest total spending among all age groups.\n",
    "\n",
    "- This indicates younger customers could be the primary target demographic for marketing campaigns.\n",
    "\n",
    "**What This Means (Business Impact)**\n",
    "**For Retailers:**\n",
    "\n",
    "- Focus marketing efforts on younger customers (15–24), as they represent the most profitable segment.\n",
    "\n",
    "- Create campaigns/products that resonate with female customers, as they slightly outspend their male counterparts."
   ]
  },
  {
   "cell_type": "code",
   "execution_count": null,
   "id": "18956b83-cbf6-4148-a148-5c9ca37a94f5",
   "metadata": {},
   "outputs": [],
   "source": []
  },
  {
   "cell_type": "markdown",
   "id": "97189d48-b1af-42a0-bc5c-3bad2f1c3299",
   "metadata": {},
   "source": [
    "**Are there discernible patterns in sales across different time periods?**"
   ]
  },
  {
   "cell_type": "code",
   "execution_count": 77,
   "id": "ef690a77-649a-462d-8da8-03ef52b450c1",
   "metadata": {},
   "outputs": [],
   "source": [
    "df['Date'] = pd.to_datetime(df['Date'])"
   ]
  },
  {
   "cell_type": "code",
   "execution_count": 104,
   "id": "35fa74df-a28b-4e03-9df5-a3f8fa043508",
   "metadata": {},
   "outputs": [],
   "source": [
    "monthly_expenditure = df.groupby(df['Date'].dt.to_period('M'))['Total Amount'].sum().reset_index(name = 'Expenditure($)')"
   ]
  },
  {
   "cell_type": "code",
   "execution_count": 106,
   "id": "998ec45a-7cb8-4504-898f-2382a22a82e9",
   "metadata": {},
   "outputs": [
    {
     "data": {
      "text/html": [
       "<div>\n",
       "<style scoped>\n",
       "    .dataframe tbody tr th:only-of-type {\n",
       "        vertical-align: middle;\n",
       "    }\n",
       "\n",
       "    .dataframe tbody tr th {\n",
       "        vertical-align: top;\n",
       "    }\n",
       "\n",
       "    .dataframe thead th {\n",
       "        text-align: right;\n",
       "    }\n",
       "</style>\n",
       "<table border=\"1\" class=\"dataframe\">\n",
       "  <thead>\n",
       "    <tr style=\"text-align: right;\">\n",
       "      <th></th>\n",
       "      <th>Date</th>\n",
       "      <th>Expenditure($)</th>\n",
       "    </tr>\n",
       "  </thead>\n",
       "  <tbody>\n",
       "    <tr>\n",
       "      <th>0</th>\n",
       "      <td>2023-01</td>\n",
       "      <td>35450</td>\n",
       "    </tr>\n",
       "    <tr>\n",
       "      <th>1</th>\n",
       "      <td>2023-02</td>\n",
       "      <td>44060</td>\n",
       "    </tr>\n",
       "    <tr>\n",
       "      <th>2</th>\n",
       "      <td>2023-03</td>\n",
       "      <td>28990</td>\n",
       "    </tr>\n",
       "    <tr>\n",
       "      <th>3</th>\n",
       "      <td>2023-04</td>\n",
       "      <td>33870</td>\n",
       "    </tr>\n",
       "    <tr>\n",
       "      <th>4</th>\n",
       "      <td>2023-05</td>\n",
       "      <td>53150</td>\n",
       "    </tr>\n",
       "    <tr>\n",
       "      <th>5</th>\n",
       "      <td>2023-06</td>\n",
       "      <td>36715</td>\n",
       "    </tr>\n",
       "    <tr>\n",
       "      <th>6</th>\n",
       "      <td>2023-07</td>\n",
       "      <td>35465</td>\n",
       "    </tr>\n",
       "    <tr>\n",
       "      <th>7</th>\n",
       "      <td>2023-08</td>\n",
       "      <td>36960</td>\n",
       "    </tr>\n",
       "    <tr>\n",
       "      <th>8</th>\n",
       "      <td>2023-09</td>\n",
       "      <td>23620</td>\n",
       "    </tr>\n",
       "    <tr>\n",
       "      <th>9</th>\n",
       "      <td>2023-10</td>\n",
       "      <td>46580</td>\n",
       "    </tr>\n",
       "    <tr>\n",
       "      <th>10</th>\n",
       "      <td>2023-11</td>\n",
       "      <td>34920</td>\n",
       "    </tr>\n",
       "    <tr>\n",
       "      <th>11</th>\n",
       "      <td>2023-12</td>\n",
       "      <td>44690</td>\n",
       "    </tr>\n",
       "    <tr>\n",
       "      <th>12</th>\n",
       "      <td>2024-01</td>\n",
       "      <td>1530</td>\n",
       "    </tr>\n",
       "  </tbody>\n",
       "</table>\n",
       "</div>"
      ],
      "text/plain": [
       "       Date  Expenditure($)\n",
       "0   2023-01           35450\n",
       "1   2023-02           44060\n",
       "2   2023-03           28990\n",
       "3   2023-04           33870\n",
       "4   2023-05           53150\n",
       "5   2023-06           36715\n",
       "6   2023-07           35465\n",
       "7   2023-08           36960\n",
       "8   2023-09           23620\n",
       "9   2023-10           46580\n",
       "10  2023-11           34920\n",
       "11  2023-12           44690\n",
       "12  2024-01            1530"
      ]
     },
     "execution_count": 106,
     "metadata": {},
     "output_type": "execute_result"
    }
   ],
   "source": [
    "monthly_expenditure"
   ]
  },
  {
   "cell_type": "code",
   "execution_count": 85,
   "id": "bb6985b7-ce79-495e-833f-dc6caa8a437d",
   "metadata": {},
   "outputs": [],
   "source": [
    "df['Day of Week'] = df['Date'].dt.day_name()"
   ]
  },
  {
   "cell_type": "code",
   "execution_count": 118,
   "id": "2cb4d47e-55d5-4181-8746-94058b63fac0",
   "metadata": {},
   "outputs": [
    {
     "data": {
      "text/html": [
       "<div>\n",
       "<style scoped>\n",
       "    .dataframe tbody tr th:only-of-type {\n",
       "        vertical-align: middle;\n",
       "    }\n",
       "\n",
       "    .dataframe tbody tr th {\n",
       "        vertical-align: top;\n",
       "    }\n",
       "\n",
       "    .dataframe thead th {\n",
       "        text-align: right;\n",
       "    }\n",
       "</style>\n",
       "<table border=\"1\" class=\"dataframe\">\n",
       "  <thead>\n",
       "    <tr style=\"text-align: right;\">\n",
       "      <th></th>\n",
       "      <th>Day of Week</th>\n",
       "      <th>Expenditure</th>\n",
       "    </tr>\n",
       "  </thead>\n",
       "  <tbody>\n",
       "    <tr>\n",
       "      <th>0</th>\n",
       "      <td>Monday</td>\n",
       "      <td>481.164384</td>\n",
       "    </tr>\n",
       "    <tr>\n",
       "      <th>1</th>\n",
       "      <td>Tuesday</td>\n",
       "      <td>431.304348</td>\n",
       "    </tr>\n",
       "    <tr>\n",
       "      <th>2</th>\n",
       "      <td>Wednesday</td>\n",
       "      <td>422.805755</td>\n",
       "    </tr>\n",
       "    <tr>\n",
       "      <th>3</th>\n",
       "      <td>Thursday</td>\n",
       "      <td>437.682927</td>\n",
       "    </tr>\n",
       "    <tr>\n",
       "      <th>4</th>\n",
       "      <td>Friday</td>\n",
       "      <td>463.566434</td>\n",
       "    </tr>\n",
       "    <tr>\n",
       "      <th>5</th>\n",
       "      <td>Saturday</td>\n",
       "      <td>525.433333</td>\n",
       "    </tr>\n",
       "    <tr>\n",
       "      <th>6</th>\n",
       "      <td>Sunday</td>\n",
       "      <td>424.637681</td>\n",
       "    </tr>\n",
       "  </tbody>\n",
       "</table>\n",
       "</div>"
      ],
      "text/plain": [
       "  Day of Week  Expenditure\n",
       "0      Monday   481.164384\n",
       "1     Tuesday   431.304348\n",
       "2   Wednesday   422.805755\n",
       "3    Thursday   437.682927\n",
       "4      Friday   463.566434\n",
       "5    Saturday   525.433333\n",
       "6      Sunday   424.637681"
      ]
     },
     "execution_count": 118,
     "metadata": {},
     "output_type": "execute_result"
    }
   ],
   "source": [
    "daily_sales = df.groupby('Day of Week')['Total Amount'].mean().reindex([\n",
    "    'Monday', 'Tuesday', 'Wednesday', 'Thursday', 'Friday', 'Saturday', 'Sunday'\n",
    "]).reset_index(name = 'Expenditure')\n",
    "daily_sales"
   ]
  },
  {
   "cell_type": "markdown",
   "id": "f618289d-a0b1-443d-9151-f0dbc83255b7",
   "metadata": {},
   "source": [
    "**Seasonal Trends Observed:**\n",
    "\n",
    "(*currency($)*)\n",
    "\n",
    "- May 2023 (53,150) is the peak month, showing a clear sales spike.\n",
    "\n",
    "- October 2023 (46,580) December (44,690) are also high-performing months, possibly due to seasonal campaigns or holidays.\n",
    "\n",
    "- September 2023 (23,620) and March (28,990) are lower, suggesting off-season dips.\n",
    "\n",
    "- January 2024 (1,530) shows a dramatic drop, likely because it’s incomplete or reflects a new year sales slump.\n",
    "\n",
    "**Business Interpretation**\n",
    "*Retailers could:*\n",
    "\n",
    "- Focus marketing and stock during May, October, and December to maximize revenue.\n",
    "\n",
    "- Investigate why September underperforms (*possible post-holiday lull*) and design promotions to boost sales during slow months.\n",
    "\n",
    "\n",
    "\n",
    "**Peak Day:**\n",
    "\n",
    "- Saturday has the highest average sales (525.43) → customers likely shop more on weekends.\n",
    "\n",
    "- *Other Strong Days:*\n",
    "\n",
    "- Monday (481.16) and Friday (463.57) also perform well.\n",
    "\n",
    "*Suggestion* : Suggest possible start-of-week and pre-weekend shopping sprees.\n",
    "\n",
    "**Weaker Days:**\n",
    "\n",
    "- Wednesday (422.80) and Sunday (424.63) are slightly lower.\n",
    "\n",
    " *Maybe customers avoid midweek or Sunday shopping?*\n",
    "\n",
    "**Business Interpretation.**\n",
    "\n",
    "*What this means for retailers:*\n",
    "\n",
    "- Focus promotions and discounts on slower days (Wed, Sun) to drive more traffic.\n",
    "\n",
    "- Prepare for higher stock and staff on Saturdays to handle increased demand.\n",
    "\n"
   ]
  },
  {
   "cell_type": "code",
   "execution_count": null,
   "id": "08296a99-83d1-4296-bc31-cae20b17cd61",
   "metadata": {},
   "outputs": [],
   "source": []
  },
  {
   "cell_type": "markdown",
   "id": "24221c0e-e2a4-4c80-a878-96eadf9ab3e9",
   "metadata": {},
   "source": [
    "**Which product categories hold the highest appeal among customers?**"
   ]
  },
  {
   "cell_type": "code",
   "execution_count": 136,
   "id": "5790f0b5-aeef-4593-b30d-8ad9acec9cc4",
   "metadata": {},
   "outputs": [
    {
     "data": {
      "text/plain": [
       "Product Category\n",
       "Clothing       351\n",
       "Electronics    342\n",
       "Beauty         307\n",
       "Name: count, dtype: int64"
      ]
     },
     "execution_count": 136,
     "metadata": {},
     "output_type": "execute_result"
    }
   ],
   "source": [
    "df['Product Category'].value_counts()"
   ]
  },
  {
   "cell_type": "code",
   "execution_count": 150,
   "id": "ed7f97e0-15c4-423b-8e3a-d97db4aecbd7",
   "metadata": {},
   "outputs": [
    {
     "data": {
      "text/html": [
       "<div>\n",
       "<style scoped>\n",
       "    .dataframe tbody tr th:only-of-type {\n",
       "        vertical-align: middle;\n",
       "    }\n",
       "\n",
       "    .dataframe tbody tr th {\n",
       "        vertical-align: top;\n",
       "    }\n",
       "\n",
       "    .dataframe thead th {\n",
       "        text-align: right;\n",
       "    }\n",
       "</style>\n",
       "<table border=\"1\" class=\"dataframe\">\n",
       "  <thead>\n",
       "    <tr style=\"text-align: right;\">\n",
       "      <th>Product Category</th>\n",
       "      <th>Beauty</th>\n",
       "      <th>Clothing</th>\n",
       "      <th>Electronics</th>\n",
       "    </tr>\n",
       "    <tr>\n",
       "      <th>Gender</th>\n",
       "      <th></th>\n",
       "      <th></th>\n",
       "      <th></th>\n",
       "    </tr>\n",
       "  </thead>\n",
       "  <tbody>\n",
       "    <tr>\n",
       "      <th>Female</th>\n",
       "      <td>166</td>\n",
       "      <td>174</td>\n",
       "      <td>170</td>\n",
       "    </tr>\n",
       "    <tr>\n",
       "      <th>Male</th>\n",
       "      <td>141</td>\n",
       "      <td>177</td>\n",
       "      <td>172</td>\n",
       "    </tr>\n",
       "  </tbody>\n",
       "</table>\n",
       "</div>"
      ],
      "text/plain": [
       "Product Category  Beauty  Clothing  Electronics\n",
       "Gender                                         \n",
       "Female               166       174          170\n",
       "Male                 141       177          172"
      ]
     },
     "execution_count": 150,
     "metadata": {},
     "output_type": "execute_result"
    }
   ],
   "source": [
    "pivot = df.pivot_table(values = 'Transaction ID', index = 'Gender', columns ='Product Category', aggfunc = 'count')\n",
    "pivot"
   ]
  },
  {
   "cell_type": "code",
   "execution_count": 152,
   "id": "3d6028f4-8235-4eb2-a1c6-bd425360662c",
   "metadata": {},
   "outputs": [
    {
     "data": {
      "text/plain": [
       "Gender\n",
       "Female    510\n",
       "Male      490\n",
       "Name: Product Category, dtype: int64"
      ]
     },
     "execution_count": 152,
     "metadata": {},
     "output_type": "execute_result"
    }
   ],
   "source": [
    "df.groupby('Gender')['Product Category'].count()"
   ]
  },
  {
   "cell_type": "markdown",
   "id": "e5aa49e2-eed6-4897-a57d-7a3da9e2637d",
   "metadata": {},
   "source": [
    "**Most Popular Categories (Overall):**\n",
    "\n",
    "-Clothing (351 transactions)\n",
    "\n",
    "-Electronics (342 transactions)\n",
    "\n",
    "-Beauty (307 transactions)\n",
    "\n",
    "*Clothing edges slightly ahead as the top-selling category overall.*\n",
    "\n",
    "\n",
    "**Total Transactions by Gender:**\n",
    "\n",
    "-Female: 510 transactions (51%)\n",
    "\n",
    "-Male: 490 transactions (49%)\n",
    "\n",
    "*Sales are almost balanced, but females lead slightly.*\n",
    "\n",
    "\n",
    "**Insights from table:**\n",
    "\n",
    "-Females dominate Beauty (166 vs 141).\n",
    "\n",
    "-Clothing is evenly popular among both genders.(174 vs 177)\n",
    "\n",
    "-Electronics also has near parity, slightly higher among males (172 vs 170).\n",
    "\n",
    "**Business Interpretation**\n",
    "\n",
    "*Retailers could:*\n",
    "\n",
    "-Target beauty product marketing more toward female customers, as they dominate this category.\n",
    "\n",
    "-For Clothing and Electronics, use gender-neutral campaigns, since both genders show high engagement.\n",
    "\n",
    "-Create cross-category bundles (e.g., pair beauty and clothing items for female customers)."
   ]
  },
  {
   "cell_type": "code",
   "execution_count": null,
   "id": "00e9c314-a972-4752-b34b-bd309c27c839",
   "metadata": {},
   "outputs": [],
   "source": []
  },
  {
   "cell_type": "markdown",
   "id": "b87b3311-e474-4c50-a079-75b56f6d89f9",
   "metadata": {},
   "source": [
    "**What are the relationships between age, spending, and product preferences?**"
   ]
  },
  {
   "cell_type": "code",
   "execution_count": 160,
   "id": "8f3fe0e1-f697-4232-b55b-e07f20fee7ef",
   "metadata": {},
   "outputs": [
    {
     "name": "stderr",
     "output_type": "stream",
     "text": [
      "C:\\Users\\LENOVO\\AppData\\Local\\Temp\\ipykernel_34496\\1709745317.py:1: FutureWarning: The default value of observed=False is deprecated and will change to observed=True in a future version of pandas. Specify observed=False to silence this warning and retain the current behavior\n",
      "  pivot = df.pivot_table(values = 'Transaction ID', index = 'Age group', columns = 'Product Category', aggfunc = 'count')\n"
     ]
    }
   ],
   "source": [
    "pivot = df.pivot_table(values = 'Transaction ID', index = 'Age group', columns = 'Product Category', aggfunc = 'count')"
   ]
  },
  {
   "cell_type": "code",
   "execution_count": 162,
   "id": "1a88c93d-d271-43a8-92aa-4a6e3e728b83",
   "metadata": {},
   "outputs": [
    {
     "data": {
      "text/html": [
       "<div>\n",
       "<style scoped>\n",
       "    .dataframe tbody tr th:only-of-type {\n",
       "        vertical-align: middle;\n",
       "    }\n",
       "\n",
       "    .dataframe tbody tr th {\n",
       "        vertical-align: top;\n",
       "    }\n",
       "\n",
       "    .dataframe thead th {\n",
       "        text-align: right;\n",
       "    }\n",
       "</style>\n",
       "<table border=\"1\" class=\"dataframe\">\n",
       "  <thead>\n",
       "    <tr style=\"text-align: right;\">\n",
       "      <th>Product Category</th>\n",
       "      <th>Beauty</th>\n",
       "      <th>Clothing</th>\n",
       "      <th>Electronics</th>\n",
       "    </tr>\n",
       "    <tr>\n",
       "      <th>Age group</th>\n",
       "      <th></th>\n",
       "      <th></th>\n",
       "      <th></th>\n",
       "    </tr>\n",
       "  </thead>\n",
       "  <tbody>\n",
       "    <tr>\n",
       "      <th>15-24</th>\n",
       "      <td>60</td>\n",
       "      <td>51</td>\n",
       "      <td>58</td>\n",
       "    </tr>\n",
       "    <tr>\n",
       "      <th>25-34</th>\n",
       "      <td>67</td>\n",
       "      <td>74</td>\n",
       "      <td>64</td>\n",
       "    </tr>\n",
       "    <tr>\n",
       "      <th>35-44</th>\n",
       "      <td>54</td>\n",
       "      <td>76</td>\n",
       "      <td>72</td>\n",
       "    </tr>\n",
       "    <tr>\n",
       "      <th>45-54</th>\n",
       "      <td>71</td>\n",
       "      <td>76</td>\n",
       "      <td>82</td>\n",
       "    </tr>\n",
       "    <tr>\n",
       "      <th>55-65</th>\n",
       "      <td>55</td>\n",
       "      <td>74</td>\n",
       "      <td>66</td>\n",
       "    </tr>\n",
       "  </tbody>\n",
       "</table>\n",
       "</div>"
      ],
      "text/plain": [
       "Product Category  Beauty  Clothing  Electronics\n",
       "Age group                                      \n",
       "15-24                 60        51           58\n",
       "25-34                 67        74           64\n",
       "35-44                 54        76           72\n",
       "45-54                 71        76           82\n",
       "55-65                 55        74           66"
      ]
     },
     "execution_count": 162,
     "metadata": {},
     "output_type": "execute_result"
    }
   ],
   "source": [
    "pivot"
   ]
  },
  {
   "cell_type": "code",
   "execution_count": 170,
   "id": "504ad43c-d2a9-4616-ae97-fe8ab2449807",
   "metadata": {},
   "outputs": [
    {
     "name": "stderr",
     "output_type": "stream",
     "text": [
      "C:\\Users\\LENOVO\\AppData\\Local\\Temp\\ipykernel_34496\\184709568.py:1: FutureWarning: The default of observed=False is deprecated and will be changed to True in a future version of pandas. Pass observed=False to retain current behavior or observed=True to adopt the future default and silence this warning.\n",
      "  df.groupby('Age group')['Transaction ID'].count().reset_index(name = 'Transaction Count')\n"
     ]
    },
    {
     "data": {
      "text/html": [
       "<div>\n",
       "<style scoped>\n",
       "    .dataframe tbody tr th:only-of-type {\n",
       "        vertical-align: middle;\n",
       "    }\n",
       "\n",
       "    .dataframe tbody tr th {\n",
       "        vertical-align: top;\n",
       "    }\n",
       "\n",
       "    .dataframe thead th {\n",
       "        text-align: right;\n",
       "    }\n",
       "</style>\n",
       "<table border=\"1\" class=\"dataframe\">\n",
       "  <thead>\n",
       "    <tr style=\"text-align: right;\">\n",
       "      <th></th>\n",
       "      <th>Age group</th>\n",
       "      <th>Transaction Count</th>\n",
       "    </tr>\n",
       "  </thead>\n",
       "  <tbody>\n",
       "    <tr>\n",
       "      <th>0</th>\n",
       "      <td>15-24</td>\n",
       "      <td>169</td>\n",
       "    </tr>\n",
       "    <tr>\n",
       "      <th>1</th>\n",
       "      <td>25-34</td>\n",
       "      <td>205</td>\n",
       "    </tr>\n",
       "    <tr>\n",
       "      <th>2</th>\n",
       "      <td>35-44</td>\n",
       "      <td>202</td>\n",
       "    </tr>\n",
       "    <tr>\n",
       "      <th>3</th>\n",
       "      <td>45-54</td>\n",
       "      <td>229</td>\n",
       "    </tr>\n",
       "    <tr>\n",
       "      <th>4</th>\n",
       "      <td>55-65</td>\n",
       "      <td>195</td>\n",
       "    </tr>\n",
       "  </tbody>\n",
       "</table>\n",
       "</div>"
      ],
      "text/plain": [
       "  Age group  Transaction Count\n",
       "0     15-24                169\n",
       "1     25-34                205\n",
       "2     35-44                202\n",
       "3     45-54                229\n",
       "4     55-65                195"
      ]
     },
     "execution_count": 170,
     "metadata": {},
     "output_type": "execute_result"
    }
   ],
   "source": [
    "df.groupby('Age group')['Transaction ID'].count().reset_index(name = 'Transaction Count')"
   ]
  },
  {
   "cell_type": "code",
   "execution_count": 176,
   "id": "1e0a1c96-fbaf-4dc9-b2ca-31737ca0a271",
   "metadata": {},
   "outputs": [
    {
     "data": {
      "text/plain": [
       "-0.060568023883045684"
      ]
     },
     "execution_count": 176,
     "metadata": {},
     "output_type": "execute_result"
    }
   ],
   "source": [
    "df['Age'].corr(df['Total Amount'])"
   ]
  },
  {
   "cell_type": "markdown",
   "id": "0aac9a7a-c7e8-4aca-ace6-ecd43c83cf87",
   "metadata": {},
   "source": [
    "**Observations:**\n",
    "\n",
    "- Younger customers (15–24) prefer Beauty products.\n",
    "\n",
    "- Middle-aged customers (25–44) shift towards Clothing.\n",
    "\n",
    "- Older customers (45–54) spend more on Electronics.\n",
    "\n",
    "- 45–54 age group has the highest transaction count (229).\n",
    "\n",
    "- 15–24 has the lowest transaction count (169), even though they prefer Beauty.\n",
    "\n",
    "- df['Age'].corr(df['Total Amount']) = -0.0605: *This is a very weak negative correlation. Age doesn’t strongly predict how much people spend per transaction.*\n",
    "\n",
    "**Business Insights**\n",
    "\n",
    "*Retailers could:*\n",
    "\n",
    "- Target beauty product ads to younger demographics (15–24).\n",
    "\n",
    "- Offer loyalty programs for clothing to middle-aged buyers.\n",
    "\n",
    "- Focus electronics campaigns on older age groups (45–54)."
   ]
  },
  {
   "cell_type": "markdown",
   "id": "afc93a2a-e0a8-4565-a423-2aa56a369cbe",
   "metadata": {},
   "source": []
  },
  {
   "cell_type": "markdown",
   "id": "8b69b8c7-64e3-4be1-842b-76e8e29e1edb",
   "metadata": {},
   "source": [
    "**How do customers adapt their shopping habits during seasonal trends?**\n"
   ]
  },
  {
   "cell_type": "code",
   "execution_count": 182,
   "id": "97975b86-4b08-423c-8062-614644c96ca6",
   "metadata": {},
   "outputs": [],
   "source": [
    "df['Month'] = df['Date'].dt.month"
   ]
  },
  {
   "cell_type": "code",
   "execution_count": 186,
   "id": "a7363fea-5e64-4a77-9a01-5232804b96c5",
   "metadata": {},
   "outputs": [],
   "source": [
    "Monthly_sales = df.groupby('Month')['Total Amount'].sum()"
   ]
  },
  {
   "cell_type": "code",
   "execution_count": 188,
   "id": "aff196c6-8c73-4199-93bb-fe8a5fd73c1e",
   "metadata": {},
   "outputs": [
    {
     "data": {
      "text/plain": [
       "Month\n",
       "1     36980\n",
       "2     44060\n",
       "3     28990\n",
       "4     33870\n",
       "5     53150\n",
       "6     36715\n",
       "7     35465\n",
       "8     36960\n",
       "9     23620\n",
       "10    46580\n",
       "11    34920\n",
       "12    44690\n",
       "Name: Total Amount, dtype: int64"
      ]
     },
     "execution_count": 188,
     "metadata": {},
     "output_type": "execute_result"
    }
   ],
   "source": [
    "Monthly_sales"
   ]
  },
  {
   "cell_type": "code",
   "execution_count": 190,
   "id": "70b3dd70-40fb-4ef5-858d-33350a8f4b6e",
   "metadata": {},
   "outputs": [],
   "source": [
    "seasonal_trends = df.groupby([df['Date'].dt.month, 'Product Category'])['Total Amount'].sum().unstack()"
   ]
  },
  {
   "cell_type": "code",
   "execution_count": 192,
   "id": "d80ba1ec-e34c-4484-8b0b-553275c4584b",
   "metadata": {},
   "outputs": [
    {
     "data": {
      "text/html": [
       "<div>\n",
       "<style scoped>\n",
       "    .dataframe tbody tr th:only-of-type {\n",
       "        vertical-align: middle;\n",
       "    }\n",
       "\n",
       "    .dataframe tbody tr th {\n",
       "        vertical-align: top;\n",
       "    }\n",
       "\n",
       "    .dataframe thead th {\n",
       "        text-align: right;\n",
       "    }\n",
       "</style>\n",
       "<table border=\"1\" class=\"dataframe\">\n",
       "  <thead>\n",
       "    <tr style=\"text-align: right;\">\n",
       "      <th>Product Category</th>\n",
       "      <th>Beauty</th>\n",
       "      <th>Clothing</th>\n",
       "      <th>Electronics</th>\n",
       "    </tr>\n",
       "    <tr>\n",
       "      <th>Date</th>\n",
       "      <th></th>\n",
       "      <th></th>\n",
       "      <th></th>\n",
       "    </tr>\n",
       "  </thead>\n",
       "  <tbody>\n",
       "    <tr>\n",
       "      <th>1</th>\n",
       "      <td>13930</td>\n",
       "      <td>13125</td>\n",
       "      <td>9925</td>\n",
       "    </tr>\n",
       "    <tr>\n",
       "      <th>2</th>\n",
       "      <td>14035</td>\n",
       "      <td>14560</td>\n",
       "      <td>15465</td>\n",
       "    </tr>\n",
       "    <tr>\n",
       "      <th>3</th>\n",
       "      <td>10545</td>\n",
       "      <td>15065</td>\n",
       "      <td>3380</td>\n",
       "    </tr>\n",
       "    <tr>\n",
       "      <th>4</th>\n",
       "      <td>11905</td>\n",
       "      <td>13940</td>\n",
       "      <td>8025</td>\n",
       "    </tr>\n",
       "    <tr>\n",
       "      <th>5</th>\n",
       "      <td>12450</td>\n",
       "      <td>17455</td>\n",
       "      <td>23245</td>\n",
       "    </tr>\n",
       "    <tr>\n",
       "      <th>6</th>\n",
       "      <td>10995</td>\n",
       "      <td>10170</td>\n",
       "      <td>15550</td>\n",
       "    </tr>\n",
       "    <tr>\n",
       "      <th>7</th>\n",
       "      <td>16090</td>\n",
       "      <td>8250</td>\n",
       "      <td>11125</td>\n",
       "    </tr>\n",
       "    <tr>\n",
       "      <th>8</th>\n",
       "      <td>9790</td>\n",
       "      <td>12455</td>\n",
       "      <td>14715</td>\n",
       "    </tr>\n",
       "    <tr>\n",
       "      <th>9</th>\n",
       "      <td>6320</td>\n",
       "      <td>9975</td>\n",
       "      <td>7325</td>\n",
       "    </tr>\n",
       "    <tr>\n",
       "      <th>10</th>\n",
       "      <td>15355</td>\n",
       "      <td>13315</td>\n",
       "      <td>17910</td>\n",
       "    </tr>\n",
       "    <tr>\n",
       "      <th>11</th>\n",
       "      <td>9700</td>\n",
       "      <td>15200</td>\n",
       "      <td>10020</td>\n",
       "    </tr>\n",
       "    <tr>\n",
       "      <th>12</th>\n",
       "      <td>12400</td>\n",
       "      <td>12070</td>\n",
       "      <td>20220</td>\n",
       "    </tr>\n",
       "  </tbody>\n",
       "</table>\n",
       "</div>"
      ],
      "text/plain": [
       "Product Category  Beauty  Clothing  Electronics\n",
       "Date                                           \n",
       "1                  13930     13125         9925\n",
       "2                  14035     14560        15465\n",
       "3                  10545     15065         3380\n",
       "4                  11905     13940         8025\n",
       "5                  12450     17455        23245\n",
       "6                  10995     10170        15550\n",
       "7                  16090      8250        11125\n",
       "8                   9790     12455        14715\n",
       "9                   6320      9975         7325\n",
       "10                 15355     13315        17910\n",
       "11                  9700     15200        10020\n",
       "12                 12400     12070        20220"
      ]
     },
     "execution_count": 192,
     "metadata": {},
     "output_type": "execute_result"
    }
   ],
   "source": [
    "seasonal_trends"
   ]
  },
  {
   "cell_type": "code",
   "execution_count": 194,
   "id": "16190317-fe5b-47ca-93d1-13a75adcf11f",
   "metadata": {},
   "outputs": [],
   "source": [
    "avg_spend_per_month = df.groupby('Month')['Total Amount'].mean()"
   ]
  },
  {
   "cell_type": "code",
   "execution_count": 196,
   "id": "0dc53b48-815a-41e5-9d53-13f87661a495",
   "metadata": {},
   "outputs": [
    {
     "data": {
      "text/plain": [
       "Month\n",
       "1     474.102564\n",
       "2     518.352941\n",
       "3     397.123288\n",
       "4     393.837209\n",
       "5     506.190476\n",
       "6     476.818182\n",
       "7     492.569444\n",
       "8     393.191489\n",
       "9     363.384615\n",
       "10    485.208333\n",
       "11    447.692308\n",
       "12    491.098901\n",
       "Name: Total Amount, dtype: float64"
      ]
     },
     "execution_count": 196,
     "metadata": {},
     "output_type": "execute_result"
    }
   ],
   "source": [
    "avg_spend_per_month"
   ]
  },
  {
   "cell_type": "markdown",
   "id": "bbac23f1-551c-4416-8978-ebc6d4bc5eea",
   "metadata": {},
   "source": [
    "**Insight from Data**\n",
    "\n",
    "**Observation:**\n",
    "\n",
    "- May is the peak sales month, possibly due to pre-summer shopping.\n",
    "\n",
    "- October and December show strong sales, likely holiday season shopping spikes.\n",
    "\n",
    "- September is the weakest month, hinting at an off-season slump.\n",
    "  \n",
    "\n",
    "- Electronics spikes in May and December (possible holiday and big purchase months).\n",
    "\n",
    "- Beauty products dominate in January and July (maybe gift-giving or mid-year self-care trends).\n",
    "\n",
    "- Clothing peaks in May and November (likely seasonal wardrobe changes).\n",
    "\n",
    "\n",
    "- Customers spend more per transaction in February, May, and December.\n",
    "\n",
    "- September not only has low total sales but also lowest average spend—a double dip.\n",
    "\n",
    "**Business Insights (Interpretation)**\n",
    "\n",
    "*Retailers could:*\n",
    "\n",
    "- Boost stock & marketing in May, October, and December to ride spending peaks.\n",
    "  \n",
    "- Offer promotions in September to counteract the sales slump.\n",
    "  \n",
    "- Target Beauty promotions mid-year (July) and Electronics at year-end (December)."
   ]
  },
  {
   "cell_type": "code",
   "execution_count": null,
   "id": "315d601b-3f5e-435d-9647-a89f4463bc8e",
   "metadata": {},
   "outputs": [],
   "source": []
  },
  {
   "cell_type": "markdown",
   "id": "492387aa-c2a3-42b5-9a7b-74ac5592c0b8",
   "metadata": {},
   "source": [
    "**Are there distinct purchasing behaviors based on the number of items bought per transaction?**"
   ]
  },
  {
   "cell_type": "code",
   "execution_count": 219,
   "id": "91abd50f-9ab2-4440-84aa-bbc7a3292d33",
   "metadata": {},
   "outputs": [],
   "source": [
    "bins = [0, 2, 4, df['Quantity'].max() + 1]\n",
    "labels = ['Small (1-2)', 'Medium (3-4)', 'Large (5+)']\n",
    "df['Basket Size'] = pd.cut(df['Quantity'], bins=bins, labels=labels)"
   ]
  },
  {
   "cell_type": "code",
   "execution_count": 231,
   "id": "9c273cf7-8438-497d-a4c1-3899991b06c4",
   "metadata": {},
   "outputs": [
    {
     "name": "stderr",
     "output_type": "stream",
     "text": [
      "C:\\Users\\LENOVO\\AppData\\Local\\Temp\\ipykernel_34496\\4036766104.py:1: FutureWarning: The default of observed=False is deprecated and will be changed to True in a future version of pandas. Pass observed=False to retain current behavior or observed=True to adopt the future default and silence this warning.\n",
      "  basket_spend = df.groupby('Basket Size')['Total Amount'].mean().reset_index(name = 'Total Amount')\n"
     ]
    }
   ],
   "source": [
    "basket_spend = df.groupby('Basket Size')['Total Amount'].mean().reset_index(name = 'Total Amount')"
   ]
  },
  {
   "cell_type": "code",
   "execution_count": 233,
   "id": "5396d114-1447-4c39-8fad-831f8d23634b",
   "metadata": {},
   "outputs": [
    {
     "data": {
      "text/html": [
       "<div>\n",
       "<style scoped>\n",
       "    .dataframe tbody tr th:only-of-type {\n",
       "        vertical-align: middle;\n",
       "    }\n",
       "\n",
       "    .dataframe tbody tr th {\n",
       "        vertical-align: top;\n",
       "    }\n",
       "\n",
       "    .dataframe thead th {\n",
       "        text-align: right;\n",
       "    }\n",
       "</style>\n",
       "<table border=\"1\" class=\"dataframe\">\n",
       "  <thead>\n",
       "    <tr style=\"text-align: right;\">\n",
       "      <th></th>\n",
       "      <th>Basket Size</th>\n",
       "      <th>Total Amount</th>\n",
       "    </tr>\n",
       "  </thead>\n",
       "  <tbody>\n",
       "    <tr>\n",
       "      <th>0</th>\n",
       "      <td>Small (1-2)</td>\n",
       "      <td>253.739919</td>\n",
       "    </tr>\n",
       "    <tr>\n",
       "      <th>1</th>\n",
       "      <td>Medium (3-4)</td>\n",
       "      <td>655.049603</td>\n",
       "    </tr>\n",
       "    <tr>\n",
       "      <th>2</th>\n",
       "      <td>Large (5+)</td>\n",
       "      <td>NaN</td>\n",
       "    </tr>\n",
       "  </tbody>\n",
       "</table>\n",
       "</div>"
      ],
      "text/plain": [
       "    Basket Size  Total Amount\n",
       "0   Small (1-2)    253.739919\n",
       "1  Medium (3-4)    655.049603\n",
       "2    Large (5+)           NaN"
      ]
     },
     "execution_count": 233,
     "metadata": {},
     "output_type": "execute_result"
    }
   ],
   "source": [
    "basket_spend"
   ]
  },
  {
   "cell_type": "code",
   "execution_count": 237,
   "id": "29670222-43b2-474c-adfc-035267dc6ca6",
   "metadata": {},
   "outputs": [
    {
     "name": "stderr",
     "output_type": "stream",
     "text": [
      "C:\\Users\\LENOVO\\AppData\\Local\\Temp\\ipykernel_34496\\2161605193.py:1: FutureWarning: The default of observed=False is deprecated and will be changed to True in a future version of pandas. Pass observed=False to retain current behavior or observed=True to adopt the future default and silence this warning.\n",
      "  basket_product = df.groupby(['Basket Size', 'Product Category'])['Transaction ID'].count().unstack()\n"
     ]
    },
    {
     "data": {
      "text/html": [
       "<div>\n",
       "<style scoped>\n",
       "    .dataframe tbody tr th:only-of-type {\n",
       "        vertical-align: middle;\n",
       "    }\n",
       "\n",
       "    .dataframe tbody tr th {\n",
       "        vertical-align: top;\n",
       "    }\n",
       "\n",
       "    .dataframe thead th {\n",
       "        text-align: right;\n",
       "    }\n",
       "</style>\n",
       "<table border=\"1\" class=\"dataframe\">\n",
       "  <thead>\n",
       "    <tr style=\"text-align: right;\">\n",
       "      <th>Product Category</th>\n",
       "      <th>Beauty</th>\n",
       "      <th>Clothing</th>\n",
       "      <th>Electronics</th>\n",
       "    </tr>\n",
       "    <tr>\n",
       "      <th>Basket Size</th>\n",
       "      <th></th>\n",
       "      <th></th>\n",
       "      <th></th>\n",
       "    </tr>\n",
       "  </thead>\n",
       "  <tbody>\n",
       "    <tr>\n",
       "      <th>Small (1-2)</th>\n",
       "      <td>149</td>\n",
       "      <td>168</td>\n",
       "      <td>179</td>\n",
       "    </tr>\n",
       "    <tr>\n",
       "      <th>Medium (3-4)</th>\n",
       "      <td>158</td>\n",
       "      <td>183</td>\n",
       "      <td>163</td>\n",
       "    </tr>\n",
       "    <tr>\n",
       "      <th>Large (5+)</th>\n",
       "      <td>0</td>\n",
       "      <td>0</td>\n",
       "      <td>0</td>\n",
       "    </tr>\n",
       "  </tbody>\n",
       "</table>\n",
       "</div>"
      ],
      "text/plain": [
       "Product Category  Beauty  Clothing  Electronics\n",
       "Basket Size                                    \n",
       "Small (1-2)          149       168          179\n",
       "Medium (3-4)         158       183          163\n",
       "Large (5+)             0         0            0"
      ]
     },
     "execution_count": 237,
     "metadata": {},
     "output_type": "execute_result"
    }
   ],
   "source": [
    "basket_product = df.groupby(['Basket Size', 'Product Category'])['Transaction ID'].count().unstack()\n",
    "basket_product"
   ]
  },
  {
   "cell_type": "markdown",
   "id": "fc8c44a9-3b84-4523-83f7-243be80fc038",
   "metadata": {},
   "source": [
    "**Observation:**\n",
    "\n",
    "- Medium baskets drive more revenue per transaction.\n",
    "\n",
    "- Since there are no large baskets, customers don’t seem to do big shopping trips.\n",
    "\n",
    "**Business Interpretation**\n",
    "\n",
    "*Retailers could:*\n",
    "\n",
    "- Encourage upselling/cross-selling to increase basket size from small to medium.\n",
    "  \n",
    "- Loyalty Programs\n",
    "  \n",
    "- Add cheaper, daily-use products that customers naturally buy in bulk\n",
    "\n",
    "- Introduce Bundle Discounts"
   ]
  },
  {
   "cell_type": "code",
   "execution_count": null,
   "id": "93ea1f2d-0e98-4ac3-88c6-9fc877309087",
   "metadata": {},
   "outputs": [],
   "source": []
  },
  {
   "cell_type": "markdown",
   "id": "22dab99c-8162-49a6-bb2f-73626f988fc2",
   "metadata": {},
   "source": [
    "**What insights can be gleaned from the distribution of product prices within each category?**"
   ]
  },
  {
   "cell_type": "code",
   "execution_count": 241,
   "id": "83366642-c347-4818-97c3-6b23ab0cd911",
   "metadata": {},
   "outputs": [],
   "source": [
    "price_summary = df.groupby('Product Category')['Price per Unit'].describe()"
   ]
  },
  {
   "cell_type": "code",
   "execution_count": 243,
   "id": "0e5dfe77-142a-4493-b01c-a86f1cedad39",
   "metadata": {},
   "outputs": [
    {
     "data": {
      "text/html": [
       "<div>\n",
       "<style scoped>\n",
       "    .dataframe tbody tr th:only-of-type {\n",
       "        vertical-align: middle;\n",
       "    }\n",
       "\n",
       "    .dataframe tbody tr th {\n",
       "        vertical-align: top;\n",
       "    }\n",
       "\n",
       "    .dataframe thead th {\n",
       "        text-align: right;\n",
       "    }\n",
       "</style>\n",
       "<table border=\"1\" class=\"dataframe\">\n",
       "  <thead>\n",
       "    <tr style=\"text-align: right;\">\n",
       "      <th></th>\n",
       "      <th>count</th>\n",
       "      <th>mean</th>\n",
       "      <th>std</th>\n",
       "      <th>min</th>\n",
       "      <th>25%</th>\n",
       "      <th>50%</th>\n",
       "      <th>75%</th>\n",
       "      <th>max</th>\n",
       "    </tr>\n",
       "    <tr>\n",
       "      <th>Product Category</th>\n",
       "      <th></th>\n",
       "      <th></th>\n",
       "      <th></th>\n",
       "      <th></th>\n",
       "      <th></th>\n",
       "      <th></th>\n",
       "      <th></th>\n",
       "      <th></th>\n",
       "    </tr>\n",
       "  </thead>\n",
       "  <tbody>\n",
       "    <tr>\n",
       "      <th>Beauty</th>\n",
       "      <td>307.0</td>\n",
       "      <td>184.055375</td>\n",
       "      <td>194.929399</td>\n",
       "      <td>25.0</td>\n",
       "      <td>30.0</td>\n",
       "      <td>50.0</td>\n",
       "      <td>300.0</td>\n",
       "      <td>500.0</td>\n",
       "    </tr>\n",
       "    <tr>\n",
       "      <th>Clothing</th>\n",
       "      <td>351.0</td>\n",
       "      <td>174.287749</td>\n",
       "      <td>186.017065</td>\n",
       "      <td>25.0</td>\n",
       "      <td>30.0</td>\n",
       "      <td>50.0</td>\n",
       "      <td>300.0</td>\n",
       "      <td>500.0</td>\n",
       "    </tr>\n",
       "    <tr>\n",
       "      <th>Electronics</th>\n",
       "      <td>342.0</td>\n",
       "      <td>181.900585</td>\n",
       "      <td>189.049673</td>\n",
       "      <td>25.0</td>\n",
       "      <td>30.0</td>\n",
       "      <td>50.0</td>\n",
       "      <td>300.0</td>\n",
       "      <td>500.0</td>\n",
       "    </tr>\n",
       "  </tbody>\n",
       "</table>\n",
       "</div>"
      ],
      "text/plain": [
       "                  count        mean         std   min   25%   50%    75%  \\\n",
       "Product Category                                                           \n",
       "Beauty            307.0  184.055375  194.929399  25.0  30.0  50.0  300.0   \n",
       "Clothing          351.0  174.287749  186.017065  25.0  30.0  50.0  300.0   \n",
       "Electronics       342.0  181.900585  189.049673  25.0  30.0  50.0  300.0   \n",
       "\n",
       "                    max  \n",
       "Product Category         \n",
       "Beauty            500.0  \n",
       "Clothing          500.0  \n",
       "Electronics       500.0  "
      ]
     },
     "execution_count": 243,
     "metadata": {},
     "output_type": "execute_result"
    }
   ],
   "source": [
    "price_summary"
   ]
  },
  {
   "cell_type": "code",
   "execution_count": 249,
   "id": "eafc8001-cb4b-45ff-a5a4-8a0e9516fa0c",
   "metadata": {},
   "outputs": [
    {
     "data": {
      "image/png": "[encoded data removed]",
      "text/plain": [
       "<Figure size 1032.24x600 with 1 Axes>"
      ]
     },
     "metadata": {},
     "output_type": "display_data"
    }
   ],
   "source": [
    "sns.displot(data=df, x='Price per Unit', hue='Product Category', kde=True, height=6, aspect=1.5)\n",
    "plt.title('Product Price Distributions')\n",
    "plt.show()"
   ]
  },
  {
   "cell_type": "markdown",
   "id": "7fa92888-fe31-43f7-a184-5a0a9f2331f0",
   "metadata": {},
   "source": [
    "**Insights**\n",
    "\n",
    "**1 Price Ranges Are Very Similar Across Categories**\n",
    "\n",
    "- Min Price = $25 in all categories (budget items).\n",
    "\n",
    "- Max Price = $500 in all categories (premium products).\n",
    "\n",
    "**2 Most Items Are Low-to-Mid Price**\n",
    "\n",
    "- 50% of all products (median) cost $50 or less.\n",
    "\n",
    "- 75% of products cost $300 or less, suggesting the majority of inventory is affordable.\n",
    "\n",
    "**3 High Standard Deviation (~$190)**\n",
    "\n",
    "- Significant variation in product pricing—indicates categories mix low-budget and premium items.\n",
    "\n",
    "\n",
    "**Business Takeaways**\n",
    "\n",
    "*What can retailers do with this insight?:*\n",
    "\n",
    "- Bundle low-priced items (25–$50) to increase basket size.\n",
    "\n",
    "- Focus premium advertising campaigns on (300–$500) range products.\n",
    "\n",
    "- Analyze sales volume per price band to see which contributes most to revenue.\n",
    "\n",
    "\n"
   ]
  },
  {
   "cell_type": "code",
   "execution_count": null,
   "id": "0e1aba34-b4f1-461f-8a55-10cd5ec01a8d",
   "metadata": {},
   "outputs": [],
   "source": []
  },
  {
   "cell_type": "code",
   "execution_count": null,
   "id": "79e1d250-3ec5-43fb-9d59-b9387ab705d8",
   "metadata": {},
   "outputs": [],
   "source": []
  },
  {
   "cell_type": "markdown",
   "id": "39d75c3b-ca0f-4cdc-9c1b-428ae5c74815",
   "metadata": {},
   "source": [
    "**Analysis Done by Etesin Ediomo Usoro**\n",
    "\n",
    "*ediomoetesin40@gmail.com*"
   ]
  },
  {
   "cell_type": "code",
   "execution_count": null,
   "id": "132ce2f6-a2b2-4863-8fee-4f812993a0ee",
   "metadata": {},
   "outputs": [],
   "source": []
  }
 ],
 "metadata": {
  "kernelspec": {
   "display_name": "Python 3 (ipykernel)",
   "language": "python",
   "name": "python3"
  },
  "language_info": {
   "codemirror_mode": {
    "name": "ipython",
    "version": 3
   },
   "file_extension": ".py",
   "mimetype": "text/x-python",
   "name": "python",
   "nbconvert_exporter": "python",
   "pygments_lexer": "ipython3",
   "version": "3.12.4"
  }
 },
 "nbformat": 4,
 "nbformat_minor": 5
}
